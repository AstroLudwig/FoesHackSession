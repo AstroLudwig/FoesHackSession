{
 "cells": [
  {
   "cell_type": "code",
   "execution_count": 2,
   "metadata": {},
   "outputs": [],
   "source": [
    "import numpy as np"
   ]
  },
  {
   "cell_type": "markdown",
   "metadata": {},
   "source": [
    "### To Open"
   ]
  },
  {
   "cell_type": "code",
   "execution_count": 3,
   "metadata": {},
   "outputs": [
    {
     "name": "stdout",
     "output_type": "stream",
     "text": [
      "['hjd_ref' 'hjd_obs' 'hjd_diff' 'spec_line' 'vrel' 'verr' 'tdr']\n"
     ]
    }
   ],
   "source": [
    "# Maria did the fxcor stuff for this - much better \n",
    "filename = 'Data/smc-obs40434-2857_fxcor_results.dat'\n",
    "fid = open(filename, 'r')\n",
    "lines = fid.readlines()\n",
    "fid.close()\n",
    "header = np.array(lines[0].split())\n",
    "print (header)"
   ]
  },
  {
   "cell_type": "markdown",
   "metadata": {},
   "source": [
    "## RV "
   ]
  },
  {
   "cell_type": "code",
   "execution_count": 4,
   "metadata": {},
   "outputs": [
    {
     "ename": "ValueError",
     "evalue": "could not convert string to float: 'INDEF'",
     "output_type": "error",
     "traceback": [
      "\u001b[0;31m---------------------------------------------------------------------------\u001b[0m",
      "\u001b[0;31mValueError\u001b[0m                                Traceback (most recent call last)",
      "\u001b[0;32m<ipython-input-4-ecea585ff8df>\u001b[0m in \u001b[0;36m<module>\u001b[0;34m\u001b[0m\n\u001b[1;32m     23\u001b[0m     \u001b[0;32melif\u001b[0m \u001b[0;34m'HeIIH_blend'\u001b[0m \u001b[0;32min\u001b[0m \u001b[0mlines\u001b[0m\u001b[0;34m[\u001b[0m\u001b[0mi\u001b[0m\u001b[0;34m]\u001b[0m\u001b[0;34m:\u001b[0m\u001b[0;34m\u001b[0m\u001b[0;34m\u001b[0m\u001b[0m\n\u001b[1;32m     24\u001b[0m         \u001b[0mHJD_HeIIH_blend\u001b[0m\u001b[0;34m.\u001b[0m\u001b[0mappend\u001b[0m\u001b[0;34m(\u001b[0m\u001b[0mnp\u001b[0m\u001b[0;34m.\u001b[0m\u001b[0mfloat_\u001b[0m\u001b[0;34m(\u001b[0m\u001b[0mnp\u001b[0m\u001b[0;34m.\u001b[0m\u001b[0marray\u001b[0m\u001b[0;34m(\u001b[0m\u001b[0mlines\u001b[0m\u001b[0;34m[\u001b[0m\u001b[0mi\u001b[0m\u001b[0;34m]\u001b[0m\u001b[0;34m.\u001b[0m\u001b[0msplit\u001b[0m\u001b[0;34m(\u001b[0m\u001b[0;34m)\u001b[0m\u001b[0;34m)\u001b[0m\u001b[0;34m[\u001b[0m\u001b[0mheader\u001b[0m\u001b[0;34m==\u001b[0m\u001b[0;34m'hjd_obs'\u001b[0m\u001b[0;34m]\u001b[0m\u001b[0;34m[\u001b[0m\u001b[0;36m0\u001b[0m\u001b[0;34m]\u001b[0m\u001b[0;34m)\u001b[0m\u001b[0;34m)\u001b[0m\u001b[0;34m\u001b[0m\u001b[0;34m\u001b[0m\u001b[0m\n\u001b[0;32m---> 25\u001b[0;31m         \u001b[0mVREL_HeIIH_blend\u001b[0m\u001b[0;34m.\u001b[0m\u001b[0mappend\u001b[0m\u001b[0;34m(\u001b[0m\u001b[0mnp\u001b[0m\u001b[0;34m.\u001b[0m\u001b[0mfloat_\u001b[0m\u001b[0;34m(\u001b[0m\u001b[0mnp\u001b[0m\u001b[0;34m.\u001b[0m\u001b[0marray\u001b[0m\u001b[0;34m(\u001b[0m\u001b[0mlines\u001b[0m\u001b[0;34m[\u001b[0m\u001b[0mi\u001b[0m\u001b[0;34m]\u001b[0m\u001b[0;34m.\u001b[0m\u001b[0msplit\u001b[0m\u001b[0;34m(\u001b[0m\u001b[0;34m)\u001b[0m\u001b[0;34m)\u001b[0m\u001b[0;34m[\u001b[0m\u001b[0mheader\u001b[0m\u001b[0;34m==\u001b[0m\u001b[0;34m'vrel'\u001b[0m\u001b[0;34m]\u001b[0m\u001b[0;34m[\u001b[0m\u001b[0;36m0\u001b[0m\u001b[0;34m]\u001b[0m\u001b[0;34m)\u001b[0m\u001b[0;34m)\u001b[0m\u001b[0;34m\u001b[0m\u001b[0;34m\u001b[0m\u001b[0m\n\u001b[0m\u001b[1;32m     26\u001b[0m         \u001b[0mVERR_HeIIH_blend\u001b[0m\u001b[0;34m.\u001b[0m\u001b[0mappend\u001b[0m\u001b[0;34m(\u001b[0m\u001b[0mnp\u001b[0m\u001b[0;34m.\u001b[0m\u001b[0mfloat_\u001b[0m\u001b[0;34m(\u001b[0m\u001b[0mnp\u001b[0m\u001b[0;34m.\u001b[0m\u001b[0marray\u001b[0m\u001b[0;34m(\u001b[0m\u001b[0mlines\u001b[0m\u001b[0;34m[\u001b[0m\u001b[0mi\u001b[0m\u001b[0;34m]\u001b[0m\u001b[0;34m.\u001b[0m\u001b[0msplit\u001b[0m\u001b[0;34m(\u001b[0m\u001b[0;34m)\u001b[0m\u001b[0;34m)\u001b[0m\u001b[0;34m[\u001b[0m\u001b[0mheader\u001b[0m\u001b[0;34m==\u001b[0m\u001b[0;34m'verr'\u001b[0m\u001b[0;34m]\u001b[0m\u001b[0;34m[\u001b[0m\u001b[0;36m0\u001b[0m\u001b[0;34m]\u001b[0m\u001b[0;34m)\u001b[0m\u001b[0;34m)\u001b[0m\u001b[0;34m\u001b[0m\u001b[0;34m\u001b[0m\u001b[0m\n\u001b[1;32m     27\u001b[0m     \u001b[0;32melif\u001b[0m \u001b[0;34m'Full'\u001b[0m \u001b[0;32min\u001b[0m \u001b[0mlines\u001b[0m\u001b[0;34m[\u001b[0m\u001b[0mi\u001b[0m\u001b[0;34m]\u001b[0m\u001b[0;34m:\u001b[0m\u001b[0;34m\u001b[0m\u001b[0;34m\u001b[0m\u001b[0m\n",
      "\u001b[0;31mValueError\u001b[0m: could not convert string to float: 'INDEF'"
     ]
    }
   ],
   "source": [
    "# Loop through the lines and get the data-points for individual groups of lines\n",
    "HJD_HeII_iso = []\n",
    "VREL_HeII_iso = []\n",
    "VERR_HeII_iso = []\n",
    "HJD_HeI_iso = []\n",
    "VREL_HeI_iso = []\n",
    "VERR_HeI_iso = []\n",
    "HJD_HeIIH_blend = []\n",
    "VREL_HeIIH_blend = []\n",
    "VERR_HeIIH_blend = []\n",
    "HJD_all = []\n",
    "VREL_all = []\n",
    "VERR_all = []\n",
    "for i in range(1,len(lines)):\n",
    "    if 'HeII_iso' in lines[i]:\n",
    "        HJD_HeII_iso.append(np.float_(np.array(lines[i].split())[header=='hjd_obs'][0]))\n",
    "        VREL_HeII_iso.append(np.float_(np.array(lines[i].split())[header=='vrel'][0]))\n",
    "        VERR_HeII_iso.append(np.float_(np.array(lines[i].split())[header=='verr'][0]))\n",
    "    elif 'HeI_iso' in lines[i]:\n",
    "        HJD_HeI_iso.append(np.float_(np.array(lines[i].split())[header=='hjd_obs'][0]))\n",
    "        VREL_HeI_iso.append(np.float_(np.array(lines[i].split())[header=='vrel'][0]))\n",
    "        VERR_HeI_iso.append(np.float_(np.array(lines[i].split())[header=='verr'][0]))\n",
    "    elif 'HeIIH_blend' in lines[i]:\n",
    "        HJD_HeIIH_blend.append(np.float_(np.array(lines[i].split())[header=='hjd_obs'][0]))\n",
    "        VREL_HeIIH_blend.append(np.float_(np.array(lines[i].split())[header=='vrel'][0]))\n",
    "        VERR_HeIIH_blend.append(np.float_(np.array(lines[i].split())[header=='verr'][0]))\n",
    "    elif 'Full' in lines[i]:\n",
    "        HJD_all.append(np.float_(np.array(lines[i].split())[header=='hjd_obs'][0]))\n",
    "        VREL_all.append(np.float_(np.array(lines[i].split())[header=='vrel'][0]))\n",
    "        VERR_all.append(np.float_(np.array(lines[i].split())[header=='verr'][0]))"
   ]
  },
  {
   "cell_type": "code",
   "execution_count": null,
   "metadata": {},
   "outputs": [],
   "source": [
    "clr_HeII = np.array([41,128,154])/255.\n",
    "clr_HeI = np.array([195,123,140])/255.\n",
    "clr_Balm = np.array([238,0,86])/255.\n",
    "clr_curve = [.7]*3\n",
    "# Plot of the motion\n",
    "ww = 5.5\n",
    "hh = 4.5\n",
    "fig, ax = plt.subplots(1,1, figsize=(ww,hh))\n",
    "def test_func(x, a, b, c):\n",
    "    return a * np.sin(b * x) + c\n",
    "xx = np.linspace(np.min(HJD_all)-1,np.max(HJD_all)+1,400)\n",
    "params1, params1_covariance = optimize.curve_fit(test_func, HJD_all, VREL_all,\n",
    "                                               p0=[2, 2,10])\n",
    "P1 = 2.*np.pi/params1[1]\n",
    "fit1 = test_func(xx, params1[0], params1[1], params1[2])\n",
    "ax.plot(xx, fit1,'-',color=clr_curve,lw=2)\n",
    "params2, params2_covariance = optimize.curve_fit(test_func, HJD_all, VREL_all,\n",
    "                                               p0=[4, 4,10])\n",
    "P2 = 2.*np.pi/params2[1]\n",
    "fit2 = test_func(xx, params2[0], params2[1], params2[2])\n",
    "ax.plot(xx, fit2,'--',color=[.8]*3,lw=2,zorder=-1)\n",
    "ax.text(np.min(t_seq),max(np.max(fit1),np.max(fit2)),'lmc-obs45536-1399 \\n $P_{\\\\mathrm{orb}} = '+str(np.round(10.*P1)/10.)+'$ and $'+str(np.round(10.*P2)/10.)+'$ days',\n",
    "        color='k', va='top',ha='left',fontsize= 0.85*fsize,\n",
    "       bbox=dict(facecolor='w',edgecolor='none',boxstyle='round,pad=0.2',alpha=0.5))\n",
    "ax.plot([HJD_HeIIH_blend,HJD_HeIIH_blend],[np.array(VREL_HeIIH_blend)-np.array(VERR_HeIIH_blend),np.array(VREL_HeIIH_blend)+np.array(VERR_HeIIH_blend)],'-',color=clr_HeI)\n",
    "ax.plot(HJD_HeIIH_blend,VREL_HeIIH_blend,'o',color=clr_Balm,label='Balmer lines')\n",
    "#ax.plot(HJD_all,VREL_all,'o',color=[.8]*3)\n",
    "ax.plot([HJD_HeI_iso,HJD_HeI_iso],[np.array(VREL_HeI_iso)-np.array(VERR_HeI_iso),np.array(VREL_HeI_iso)+np.array(VERR_HeI_iso)],'-',color=clr_HeI)\n",
    "ax.plot(HJD_HeI_iso,VREL_HeI_iso,'o',color=clr_HeI,label='HeI lines')\n",
    "ax.plot([HJD_HeII_iso,HJD_HeII_iso],[np.array(VREL_HeII_iso)-np.array(VERR_HeII_iso),np.array(VREL_HeII_iso)+np.array(VERR_HeII_iso)],'-',color=clr_HeII)\n",
    "ax.plot(HJD_HeII_iso,VREL_HeII_iso,'o',color=clr_HeII,label='HeII lines')\n",
    "ax.set_ylabel('Velocity [km/s]')\n",
    "ax.tick_params(direction=\"in\", which='both')\n",
    "ax.tick_params('both', length=6, width=1, which='major')\n",
    "ax.tick_params('both', length=4, width=1, which='minor')\n",
    "ax.xaxis.set_ticks_position('both')\n",
    "ax.yaxis.set_ticks_position('both')\n",
    "xticks = np.array([40.5,50.5,60.5,70.5])+(2.4588e6)\n",
    "ax.set_xticks(xticks)\n",
    "xticklabels = np.int_(xticks-2400000.5)\n",
    "ax.set_xticklabels(xticklabels)\n",
    "ax.set_xlabel('Time [MJD days]')\n",
    "ax.legend(loc=1,fontsize=0.6*fsize,edgecolor='none')"
   ]
  }
 ],
 "metadata": {
  "kernelspec": {
   "display_name": "Python 3",
   "language": "python",
   "name": "python3"
  },
  "language_info": {
   "codemirror_mode": {
    "name": "ipython",
    "version": 3
   },
   "file_extension": ".py",
   "mimetype": "text/x-python",
   "name": "python",
   "nbconvert_exporter": "python",
   "pygments_lexer": "ipython3",
   "version": "3.7.5"
  }
 },
 "nbformat": 4,
 "nbformat_minor": 4
}
