{
 "cells": [
  {
   "cell_type": "code",
   "execution_count": 1,
   "metadata": {},
   "outputs": [],
   "source": [
    "import pandas as pd \n",
    "import numpy as np \n",
    "import matplotlib.pyplot as plt \n",
    "import astropy.units as u\n",
    "from astropy.io import fits, ascii\n",
    "from astropy.coordinates import SkyCoord, FK5\n",
    "from astropy.wcs import WCS\n",
    "from matplotlib.patches import Rectangle\n",
    "from scipy import interpolate\n",
    "\n",
    "import astropy.units as u\n",
    "import matplotlib.pyplot as plt\n",
    "import numpy as np\n",
    "import pandas as pd"
   ]
  },
  {
   "cell_type": "code",
   "execution_count": 18,
   "metadata": {},
   "outputs": [],
   "source": [
    "uvm2_filter = pd.read_csv('Data/Filters/Swift_UVOT.UVM2.dat',header=None,names = ['Wavelength','Response'],delimiter=\"\\s+\")\n",
    "uvw2_filter = pd.read_csv('Data/Filters/Swift_UVOT.UVW2.dat',header=None,names = ['Wavelength','Response'],delimiter=\"\\s+\")\n",
    "uvw1_filter = pd.read_csv('Data/Filters/Swift_UVOT.UVW1.dat',header=None,names = ['Wavelength','Response'],delimiter=\"\\s+\")\n",
    "filters = [uvm2_filter,uvw2_filter,uvw1_filter]\n",
    "\n",
    "uvm2_zeropt = 2.1583e-8 # For AB System\n",
    "uvw2_zeropt = 2.50225e-8 \n",
    "uvw1_zeropt = 1.5109e-8\n"
   ]
  },
  {
   "cell_type": "code",
   "execution_count": 3,
   "metadata": {},
   "outputs": [
    {
     "data": {
      "image/png": "[encoded data removed]",
      "text/plain": [
       "<Figure size 432x288 with 1 Axes>"
      ]
     },
     "metadata": {
      "needs_background": "light"
     },
     "output_type": "display_data"
    }
   ],
   "source": [
    "[plt.plot(f['Wavelength'],f['Response']) for f in filters ];"
   ]
  },
  {
   "cell_type": "code",
   "execution_count": 4,
   "metadata": {},
   "outputs": [
    {
     "data": {
      "text/html": [
       "<div>\n",
       "<style scoped>\n",
       "    .dataframe tbody tr th:only-of-type {\n",
       "        vertical-align: middle;\n",
       "    }\n",
       "\n",
       "    .dataframe tbody tr th {\n",
       "        vertical-align: top;\n",
       "    }\n",
       "\n",
       "    .dataframe thead th {\n",
       "        text-align: right;\n",
       "    }\n",
       "</style>\n",
       "<table border=\"1\" class=\"dataframe\">\n",
       "  <thead>\n",
       "    <tr style=\"text-align: right;\">\n",
       "      <th></th>\n",
       "      <th>Model</th>\n",
       "      <th>NUV</th>\n",
       "      <th>FUV</th>\n",
       "      <th>UVW1</th>\n",
       "      <th>UVW2</th>\n",
       "      <th>UVM2</th>\n",
       "      <th>U</th>\n",
       "      <th>B</th>\n",
       "      <th>V</th>\n",
       "      <th>R</th>\n",
       "      <th>I</th>\n",
       "      <th>J</th>\n",
       "      <th>H</th>\n",
       "      <th>Ks</th>\n",
       "    </tr>\n",
       "  </thead>\n",
       "  <tbody>\n",
       "    <tr>\n",
       "      <th>0</th>\n",
       "      <td>M1_2.0q0.8P3.4Z0.002_vinf1.5</td>\n",
       "      <td>4.223933</td>\n",
       "      <td>3.793576</td>\n",
       "      <td>4.258155</td>\n",
       "      <td>4.066356</td>\n",
       "      <td>4.217036</td>\n",
       "      <td>4.803604</td>\n",
       "      <td>4.793904</td>\n",
       "      <td>5.091305</td>\n",
       "      <td>5.328437</td>\n",
       "      <td>5.754795</td>\n",
       "      <td>6.524390</td>\n",
       "      <td>7.088530</td>\n",
       "      <td>7.686177</td>\n",
       "    </tr>\n",
       "    <tr>\n",
       "      <th>1</th>\n",
       "      <td>M1_2.21q0.8P3.8Z0.002_vinf1.5</td>\n",
       "      <td>3.640933</td>\n",
       "      <td>3.160217</td>\n",
       "      <td>3.686069</td>\n",
       "      <td>3.465729</td>\n",
       "      <td>3.633106</td>\n",
       "      <td>4.286821</td>\n",
       "      <td>4.326165</td>\n",
       "      <td>4.645840</td>\n",
       "      <td>4.890139</td>\n",
       "      <td>5.327255</td>\n",
       "      <td>6.116802</td>\n",
       "      <td>6.688307</td>\n",
       "      <td>7.292260</td>\n",
       "    </tr>\n",
       "    <tr>\n",
       "      <th>2</th>\n",
       "      <td>M1_2.44q0.8P4.1Z0.002_vinf1.5</td>\n",
       "      <td>3.081766</td>\n",
       "      <td>2.567730</td>\n",
       "      <td>3.135716</td>\n",
       "      <td>2.893717</td>\n",
       "      <td>3.073065</td>\n",
       "      <td>3.783574</td>\n",
       "      <td>3.869702</td>\n",
       "      <td>4.208145</td>\n",
       "      <td>4.458948</td>\n",
       "      <td>4.906023</td>\n",
       "      <td>5.714311</td>\n",
       "      <td>6.292845</td>\n",
       "      <td>6.902608</td>\n",
       "    </tr>\n",
       "    <tr>\n",
       "      <th>3</th>\n",
       "      <td>M1_2.7q0.8P4.4Z0.002_vinf1.5</td>\n",
       "      <td>2.443466</td>\n",
       "      <td>1.903117</td>\n",
       "      <td>2.507548</td>\n",
       "      <td>2.245775</td>\n",
       "      <td>2.433800</td>\n",
       "      <td>3.209778</td>\n",
       "      <td>3.366886</td>\n",
       "      <td>3.733295</td>\n",
       "      <td>3.992181</td>\n",
       "      <td>4.452010</td>\n",
       "      <td>5.287698</td>\n",
       "      <td>5.875341</td>\n",
       "      <td>6.491266</td>\n",
       "    </tr>\n",
       "    <tr>\n",
       "      <th>4</th>\n",
       "      <td>M1_2.99q0.8P4.7Z0.002_vinf1.5</td>\n",
       "      <td>1.943523</td>\n",
       "      <td>1.404601</td>\n",
       "      <td>2.010297</td>\n",
       "      <td>1.744904</td>\n",
       "      <td>1.933383</td>\n",
       "      <td>2.731280</td>\n",
       "      <td>2.924649</td>\n",
       "      <td>3.304594</td>\n",
       "      <td>3.565755</td>\n",
       "      <td>4.029425</td>\n",
       "      <td>4.875806</td>\n",
       "      <td>5.464423</td>\n",
       "      <td>6.080852</td>\n",
       "    </tr>\n",
       "    <tr>\n",
       "      <th>5</th>\n",
       "      <td>M1_3.3q0.8P5.1Z0.002_vinf1.5</td>\n",
       "      <td>1.502256</td>\n",
       "      <td>0.965094</td>\n",
       "      <td>1.571269</td>\n",
       "      <td>1.302364</td>\n",
       "      <td>1.491668</td>\n",
       "      <td>2.307200</td>\n",
       "      <td>2.528177</td>\n",
       "      <td>2.919100</td>\n",
       "      <td>3.181583</td>\n",
       "      <td>3.647390</td>\n",
       "      <td>4.500460</td>\n",
       "      <td>5.088699</td>\n",
       "      <td>5.704686</td>\n",
       "    </tr>\n",
       "    <tr>\n",
       "      <th>6</th>\n",
       "      <td>M1_3.65q0.8P5.4Z0.002_vinf1.5</td>\n",
       "      <td>1.087663</td>\n",
       "      <td>0.585112</td>\n",
       "      <td>1.153801</td>\n",
       "      <td>0.902084</td>\n",
       "      <td>1.074083</td>\n",
       "      <td>1.899671</td>\n",
       "      <td>2.157947</td>\n",
       "      <td>2.557828</td>\n",
       "      <td>2.826076</td>\n",
       "      <td>3.302048</td>\n",
       "      <td>4.175114</td>\n",
       "      <td>4.773354</td>\n",
       "      <td>5.399033</td>\n",
       "    </tr>\n",
       "    <tr>\n",
       "      <th>7</th>\n",
       "      <td>M1_4.04q0.8P5.8Z0.002_vinf1.5</td>\n",
       "      <td>0.712073</td>\n",
       "      <td>0.194753</td>\n",
       "      <td>0.776148</td>\n",
       "      <td>0.520599</td>\n",
       "      <td>0.698447</td>\n",
       "      <td>1.528630</td>\n",
       "      <td>1.800333</td>\n",
       "      <td>2.202779</td>\n",
       "      <td>2.469296</td>\n",
       "      <td>2.943333</td>\n",
       "      <td>3.815482</td>\n",
       "      <td>4.411559</td>\n",
       "      <td>5.034696</td>\n",
       "    </tr>\n",
       "    <tr>\n",
       "      <th>8</th>\n",
       "      <td>M1_4.46q0.8P6.3Z0.002_vinf1.5</td>\n",
       "      <td>0.343406</td>\n",
       "      <td>-0.172317</td>\n",
       "      <td>0.403776</td>\n",
       "      <td>0.152718</td>\n",
       "      <td>0.329394</td>\n",
       "      <td>1.157172</td>\n",
       "      <td>1.442275</td>\n",
       "      <td>1.844983</td>\n",
       "      <td>2.110447</td>\n",
       "      <td>2.583428</td>\n",
       "      <td>3.455441</td>\n",
       "      <td>4.050518</td>\n",
       "      <td>4.673218</td>\n",
       "    </tr>\n",
       "    <tr>\n",
       "      <th>9</th>\n",
       "      <td>M1_4.93q0.8P6.8Z0.002_vinf1.5</td>\n",
       "      <td>0.035535</td>\n",
       "      <td>-0.469274</td>\n",
       "      <td>0.090396</td>\n",
       "      <td>-0.149809</td>\n",
       "      <td>0.021257</td>\n",
       "      <td>0.843333</td>\n",
       "      <td>1.144293</td>\n",
       "      <td>1.547195</td>\n",
       "      <td>1.812591</td>\n",
       "      <td>2.285727</td>\n",
       "      <td>3.160029</td>\n",
       "      <td>3.755375</td>\n",
       "      <td>4.379118</td>\n",
       "    </tr>\n",
       "  </tbody>\n",
       "</table>\n",
       "</div>"
      ],
      "text/plain": [
       "                           Model       NUV       FUV      UVW1      UVW2  \\\n",
       "0   M1_2.0q0.8P3.4Z0.002_vinf1.5  4.223933  3.793576  4.258155  4.066356   \n",
       "1  M1_2.21q0.8P3.8Z0.002_vinf1.5  3.640933  3.160217  3.686069  3.465729   \n",
       "2  M1_2.44q0.8P4.1Z0.002_vinf1.5  3.081766  2.567730  3.135716  2.893717   \n",
       "3   M1_2.7q0.8P4.4Z0.002_vinf1.5  2.443466  1.903117  2.507548  2.245775   \n",
       "4  M1_2.99q0.8P4.7Z0.002_vinf1.5  1.943523  1.404601  2.010297  1.744904   \n",
       "5   M1_3.3q0.8P5.1Z0.002_vinf1.5  1.502256  0.965094  1.571269  1.302364   \n",
       "6  M1_3.65q0.8P5.4Z0.002_vinf1.5  1.087663  0.585112  1.153801  0.902084   \n",
       "7  M1_4.04q0.8P5.8Z0.002_vinf1.5  0.712073  0.194753  0.776148  0.520599   \n",
       "8  M1_4.46q0.8P6.3Z0.002_vinf1.5  0.343406 -0.172317  0.403776  0.152718   \n",
       "9  M1_4.93q0.8P6.8Z0.002_vinf1.5  0.035535 -0.469274  0.090396 -0.149809   \n",
       "\n",
       "       UVM2         U         B         V         R         I         J  \\\n",
       "0  4.217036  4.803604  4.793904  5.091305  5.328437  5.754795  6.524390   \n",
       "1  3.633106  4.286821  4.326165  4.645840  4.890139  5.327255  6.116802   \n",
       "2  3.073065  3.783574  3.869702  4.208145  4.458948  4.906023  5.714311   \n",
       "3  2.433800  3.209778  3.366886  3.733295  3.992181  4.452010  5.287698   \n",
       "4  1.933383  2.731280  2.924649  3.304594  3.565755  4.029425  4.875806   \n",
       "5  1.491668  2.307200  2.528177  2.919100  3.181583  3.647390  4.500460   \n",
       "6  1.074083  1.899671  2.157947  2.557828  2.826076  3.302048  4.175114   \n",
       "7  0.698447  1.528630  1.800333  2.202779  2.469296  2.943333  3.815482   \n",
       "8  0.329394  1.157172  1.442275  1.844983  2.110447  2.583428  3.455441   \n",
       "9  0.021257  0.843333  1.144293  1.547195  1.812591  2.285727  3.160029   \n",
       "\n",
       "          H        Ks  \n",
       "0  7.088530  7.686177  \n",
       "1  6.688307  7.292260  \n",
       "2  6.292845  6.902608  \n",
       "3  5.875341  6.491266  \n",
       "4  5.464423  6.080852  \n",
       "5  5.088699  5.704686  \n",
       "6  4.773354  5.399033  \n",
       "7  4.411559  5.034696  \n",
       "8  4.050518  4.673218  \n",
       "9  3.755375  4.379118  "
      ]
     },
     "execution_count": 4,
     "metadata": {},
     "output_type": "execute_result"
    }
   ],
   "source": [
    "spec = pd.read_csv('Data/SpectralModels/J_A+A_615_A78_m002.dat.text',skiprows=36,delimiter=\"\\s+\",names = ['Model','NUV','FUV','UVW1','UVW2','UVM2','U','B','V','R','I','J','H','Ks'])\n",
    "spec = spec.drop(10)\n",
    "spec"
   ]
  },
  {
   "cell_type": "code",
   "execution_count": 5,
   "metadata": {},
   "outputs": [
    {
     "data": {
      "text/html": [
       "<div>\n",
       "<style scoped>\n",
       "    .dataframe tbody tr th:only-of-type {\n",
       "        vertical-align: middle;\n",
       "    }\n",
       "\n",
       "    .dataframe tbody tr th {\n",
       "        vertical-align: top;\n",
       "    }\n",
       "\n",
       "    .dataframe thead th {\n",
       "        text-align: right;\n",
       "    }\n",
       "</style>\n",
       "<table border=\"1\" class=\"dataframe\">\n",
       "  <thead>\n",
       "    <tr style=\"text-align: right;\">\n",
       "      <th></th>\n",
       "      <th>lambda</th>\n",
       "      <th>flux</th>\n",
       "    </tr>\n",
       "  </thead>\n",
       "  <tbody>\n",
       "    <tr>\n",
       "      <th>0</th>\n",
       "      <td>6.049500e+01</td>\n",
       "      <td>1.345265e-39</td>\n",
       "    </tr>\n",
       "    <tr>\n",
       "      <th>1</th>\n",
       "      <td>6.090129e+01</td>\n",
       "      <td>9.521667e-40</td>\n",
       "    </tr>\n",
       "    <tr>\n",
       "      <th>2</th>\n",
       "      <td>6.131031e+01</td>\n",
       "      <td>7.761521e-40</td>\n",
       "    </tr>\n",
       "    <tr>\n",
       "      <th>3</th>\n",
       "      <td>6.172208e+01</td>\n",
       "      <td>7.167968e-40</td>\n",
       "    </tr>\n",
       "    <tr>\n",
       "      <th>4</th>\n",
       "      <td>6.213660e+01</td>\n",
       "      <td>6.788149e-40</td>\n",
       "    </tr>\n",
       "    <tr>\n",
       "      <th>...</th>\n",
       "      <td>...</td>\n",
       "      <td>...</td>\n",
       "    </tr>\n",
       "    <tr>\n",
       "      <th>129109</th>\n",
       "      <td>1.691155e+06</td>\n",
       "      <td>6.102755e-25</td>\n",
       "    </tr>\n",
       "    <tr>\n",
       "      <th>129110</th>\n",
       "      <td>1.702513e+06</td>\n",
       "      <td>5.941031e-25</td>\n",
       "    </tr>\n",
       "    <tr>\n",
       "      <th>129111</th>\n",
       "      <td>1.713947e+06</td>\n",
       "      <td>5.783754e-25</td>\n",
       "    </tr>\n",
       "    <tr>\n",
       "      <th>129112</th>\n",
       "      <td>1.725458e+06</td>\n",
       "      <td>5.630514e-25</td>\n",
       "    </tr>\n",
       "    <tr>\n",
       "      <th>129113</th>\n",
       "      <td>1.737046e+06</td>\n",
       "      <td>5.481420e-25</td>\n",
       "    </tr>\n",
       "  </tbody>\n",
       "</table>\n",
       "<p>129114 rows × 2 columns</p>\n",
       "</div>"
      ],
      "text/plain": [
       "              lambda          flux\n",
       "0       6.049500e+01  1.345265e-39\n",
       "1       6.090129e+01  9.521667e-40\n",
       "2       6.131031e+01  7.761521e-40\n",
       "3       6.172208e+01  7.167968e-40\n",
       "4       6.213660e+01  6.788149e-40\n",
       "...              ...           ...\n",
       "129109  1.691155e+06  6.102755e-25\n",
       "129110  1.702513e+06  5.941031e-25\n",
       "129111  1.713947e+06  5.783754e-25\n",
       "129112  1.725458e+06  5.630514e-25\n",
       "129113  1.737046e+06  5.481420e-25\n",
       "\n",
       "[129114 rows x 2 columns]"
      ]
     },
     "execution_count": 5,
     "metadata": {},
     "output_type": "execute_result"
    }
   ],
   "source": [
    "df = pd.read_csv('Data/SpectralModels/SED_grid_006_m1_2.txt',skiprows=4,header=None,delimiter=\"\\t\",names=['lambda','flux'])\n",
    "df"
   ]
  },
  {
   "cell_type": "code",
   "execution_count": 6,
   "metadata": {},
   "outputs": [
    {
     "data": {
      "text/plain": [
       "(-18.0, -12.0)"
      ]
     },
     "execution_count": 6,
     "metadata": {},
     "output_type": "execute_result"
    },
    {
     "data": {
      "image/png": "[encoded data removed]",
      "text/plain": [
       "<Figure size 432x288 with 1 Axes>"
      ]
     },
     "metadata": {
      "needs_background": "light"
     },
     "output_type": "display_data"
    }
   ],
   "source": [
    "plt.plot(np.log10(df['lambda']),np.log10(df['flux']))\n",
    "plt.xlim(3,4.5)\n",
    "plt.ylim(-18,-12)"
   ]
  },
  {
   "cell_type": "code",
   "execution_count": 7,
   "metadata": {},
   "outputs": [],
   "source": [
    "wave = df['lambda']\n",
    "flux = df['flux']\n",
    "response_wave = uvm2_filter['Wavelength']\n",
    "response = uvm2_filter['Response']\n",
    "\n",
    "#Interpolate spectrum and response to save wavelengths:\n",
    "response2 = np.interp(wave,response_wave,response,left=0.0,right=0.0)\n",
    "flux_int = np.trapz(flux*response2,x=wave)/np.trapz(response2,x=wave)\n"
   ]
  },
  {
   "cell_type": "code",
   "execution_count": 8,
   "metadata": {},
   "outputs": [
    {
     "name": "stderr",
     "output_type": "stream",
     "text": [
      "/home/bethany/anaconda3/lib/python3.7/site-packages/pandas/core/series.py:726: RuntimeWarning: divide by zero encountered in log10\n",
      "  result = getattr(ufunc, method)(*inputs, **kwargs)\n"
     ]
    },
    {
     "data": {
      "text/plain": [
       "(-18.0, -12.0)"
      ]
     },
     "execution_count": 8,
     "metadata": {},
     "output_type": "execute_result"
    },
    {
     "data": {
      "image/png": "[encoded data removed]",
      "text/plain": [
       "<Figure size 432x288 with 1 Axes>"
      ]
     },
     "metadata": {
      "needs_background": "light"
     },
     "output_type": "display_data"
    }
   ],
   "source": [
    "#plt.plot(np.log10(response_wave),np.log10(response))\n",
    "plt.plot(np.log10(wave),np.log10(flux))\n",
    "plt.plot(np.log10(wave),np.log10(flux*response2))\n",
    "plt.xlim(3,4.5)\n",
    "plt.ylim(-18,-12)"
   ]
  },
  {
   "cell_type": "code",
   "execution_count": 9,
   "metadata": {},
   "outputs": [],
   "source": [
    "\n",
    "mag = -2.5*np.log10(flux_int/uvm2_zeropt)\n"
   ]
  },
  {
   "cell_type": "code",
   "execution_count": 10,
   "metadata": {},
   "outputs": [
    {
     "data": {
      "text/plain": [
       "14.54437085026013"
      ]
     },
     "execution_count": 10,
     "metadata": {},
     "output_type": "execute_result"
    }
   ],
   "source": [
    "\n",
    "mag"
   ]
  },
  {
   "cell_type": "markdown",
   "metadata": {},
   "source": [
    "## That was the first half! Correcting for extinction"
   ]
  },
  {
   "cell_type": "code",
   "execution_count": 11,
   "metadata": {},
   "outputs": [
    {
     "data": {
      "text/html": [
       "<div>\n",
       "<style scoped>\n",
       "    .dataframe tbody tr th:only-of-type {\n",
       "        vertical-align: middle;\n",
       "    }\n",
       "\n",
       "    .dataframe tbody tr th {\n",
       "        vertical-align: top;\n",
       "    }\n",
       "\n",
       "    .dataframe thead th {\n",
       "        text-align: right;\n",
       "    }\n",
       "</style>\n",
       "<table border=\"1\" class=\"dataframe\">\n",
       "  <thead>\n",
       "    <tr style=\"text-align: right;\">\n",
       "      <th></th>\n",
       "      <th>wav_micron^-1</th>\n",
       "      <th>A(lambda)/A(V)</th>\n",
       "      <th>unc</th>\n",
       "    </tr>\n",
       "  </thead>\n",
       "  <tbody>\n",
       "    <tr>\n",
       "      <th>0</th>\n",
       "      <td>0.455</td>\n",
       "      <td>0.030434</td>\n",
       "      <td>0.001777</td>\n",
       "    </tr>\n",
       "    <tr>\n",
       "      <th>1</th>\n",
       "      <td>0.606</td>\n",
       "      <td>0.185884</td>\n",
       "      <td>0.008679</td>\n",
       "    </tr>\n",
       "    <tr>\n",
       "      <th>2</th>\n",
       "      <td>0.800</td>\n",
       "      <td>0.257140</td>\n",
       "      <td>0.011822</td>\n",
       "    </tr>\n",
       "    <tr>\n",
       "      <th>3</th>\n",
       "      <td>1.818</td>\n",
       "      <td>1.000000</td>\n",
       "      <td>0.017482</td>\n",
       "    </tr>\n",
       "    <tr>\n",
       "      <th>4</th>\n",
       "      <td>2.273</td>\n",
       "      <td>1.292860</td>\n",
       "      <td>0.085075</td>\n",
       "    </tr>\n",
       "  </tbody>\n",
       "</table>\n",
       "</div>"
      ],
      "text/plain": [
       "   wav_micron^-1  A(lambda)/A(V)       unc\n",
       "0          0.455        0.030434  0.001777\n",
       "1          0.606        0.185884  0.008679\n",
       "2          0.800        0.257140  0.011822\n",
       "3          1.818        1.000000  0.017482\n",
       "4          2.273        1.292860  0.085075"
      ]
     },
     "execution_count": 11,
     "metadata": {},
     "output_type": "execute_result"
    }
   ],
   "source": [
    "lmc_ext_curve = pd.read_csv(\"Data/ExtinctionCurve/lmc_avg_ext.dat\",skiprows=7,sep=\"\\s+\",names=[\"wav_micron^-1\",\"A(lambda)/A(V)\",\"unc\"])\n",
    "lmc_ext_curve.head()"
   ]
  },
  {
   "cell_type": "code",
   "execution_count": 12,
   "metadata": {},
   "outputs": [],
   "source": [
    "def get_interpolated_gordon_function(gordon,interp_wav):\n",
    "    wav = (np.array(1 / gordon[\"wav_micron^-1\"]) * u.micron).to(u.Angstrom)\n",
    "    ext = gordon[\"A(lambda)/A(V)\"]\n",
    "    \n",
    "    val = 0.1\n",
    "    new_gordon = np.interp(interp_wav,np.flip(wav.value),ext,left=val,right=val)\n",
    "    \n",
    "    return new_gordon\n",
    "\n",
    "\n",
    "new_gordon = get_interpolated_gordon_function(lmc_ext_curve, wave)\n",
    "\n",
    "Av = 1\n",
    "A_lambda = new_gordon * Av\n",
    "\n",
    "NewSpec = flux/10.**(0.4*A_lambda)"
   ]
  },
  {
   "cell_type": "code",
   "execution_count": 13,
   "metadata": {},
   "outputs": [
    {
     "name": "stdout",
     "output_type": "stream",
     "text": [
      "0.031526135144203285 3.619428280931316\n"
     ]
    }
   ],
   "source": [
    "print(min(new_gordon),max(new_gordon))"
   ]
  },
  {
   "cell_type": "code",
   "execution_count": 14,
   "metadata": {},
   "outputs": [
    {
     "name": "stderr",
     "output_type": "stream",
     "text": [
      "/home/bethany/anaconda3/lib/python3.7/site-packages/pandas/core/series.py:726: RuntimeWarning: divide by zero encountered in log10\n",
      "  result = getattr(ufunc, method)(*inputs, **kwargs)\n"
     ]
    },
    {
     "data": {
      "text/plain": [
       "(-18.0, -12.0)"
      ]
     },
     "execution_count": 14,
     "metadata": {},
     "output_type": "execute_result"
    },
    {
     "data": {
      "image/png": "[encoded data removed]",
      "text/plain": [
       "<Figure size 432x288 with 1 Axes>"
      ]
     },
     "metadata": {
      "needs_background": "light"
     },
     "output_type": "display_data"
    }
   ],
   "source": [
    "\n",
    "plt.plot(np.log10(wave),np.log10(flux),label=\"Original\")\n",
    "plt.plot(np.log10(wave),np.log10(flux*response2))\n",
    "plt.plot(np.log10(wave),np.log10(NewSpec),label=\"New\")\n",
    "plt.legend()\n",
    "plt.xlim(3,4.5)\n",
    "plt.ylim(-18,-12)"
   ]
  },
  {
   "cell_type": "code",
   "execution_count": 15,
   "metadata": {},
   "outputs": [],
   "source": [
    "\n",
    "\n",
    "#Interpolate spectrum and response to save wavelengths:\n",
    "response2 = np.interp(wave,response_wave,response,left=0.0,right=0.0)\n",
    "Newflux_int = np.trapz(NewSpec*response2,x=wave)/np.trapz(response2,x=wave)\n",
    "\n",
    "uvm2_zeropt = 2.1583e-8\n",
    "Newmag = -2.5*np.log10(Newflux_int/uvm2_zeropt)\n",
    "\n"
   ]
  },
  {
   "cell_type": "code",
   "execution_count": 16,
   "metadata": {},
   "outputs": [
    {
     "data": {
      "text/plain": [
       "2.784243937970867"
      ]
     },
     "execution_count": 16,
     "metadata": {},
     "output_type": "execute_result"
    }
   ],
   "source": [
    "Newmag - mag"
   ]
  },
  {
   "cell_type": "code",
   "execution_count": 17,
   "metadata": {},
   "outputs": [
    {
     "name": "stderr",
     "output_type": "stream",
     "text": [
      "/home/bethany/anaconda3/lib/python3.7/site-packages/pandas/core/series.py:726: RuntimeWarning: divide by zero encountered in log10\n",
      "  result = getattr(ufunc, method)(*inputs, **kwargs)\n"
     ]
    },
    {
     "data": {
      "text/plain": [
       "(-18.0, -12.0)"
      ]
     },
     "execution_count": 17,
     "metadata": {},
     "output_type": "execute_result"
    },
    {
     "data": {
      "image/png": "[encoded data removed]",
      "text/plain": [
       "<Figure size 432x288 with 1 Axes>"
      ]
     },
     "metadata": {
      "needs_background": "light"
     },
     "output_type": "display_data"
    }
   ],
   "source": [
    "plt.plot(np.log10(wave),np.log10(flux),label=\"Original\")\n",
    "plt.plot(np.log10(wave),np.log10(flux*response2))\n",
    "plt.plot(np.log10(wave),np.log10(NewSpec),label=\"New\")\n",
    "plt.legend()\n",
    "plt.xlim(3,4.5)\n",
    "plt.ylim(-18,-12)"
   ]
  },
  {
   "cell_type": "markdown",
   "metadata": {},
   "source": [
    "## Doing for all filters"
   ]
  },
  {
   "cell_type": "code",
   "execution_count": 25,
   "metadata": {},
   "outputs": [
    {
     "name": "stdout",
     "output_type": "stream",
     "text": [
      "For the LMC, AB Mag system, Filter: UVM2 Coefficient is 2.784243937970867\n",
      "For the LMC, AB Mag system, Filter: UVW2 Coefficient is 2.655793496749741\n",
      "For the LMC, AB Mag system, Filter: UVW1 Coefficient is 2.941905976671647\n"
     ]
    }
   ],
   "source": [
    "def get_interpolated_gordon_function(gordon,interp_wav):\n",
    "    wav = (np.array(1 / gordon[\"wav_micron^-1\"]) * u.micron).to(u.Angstrom)\n",
    "    ext = gordon[\"A(lambda)/A(V)\"]\n",
    "    val = 0.1\n",
    "    new_gordon = np.interp(interp_wav,np.flip(wav.value),ext,left=val,right=val)\n",
    "    return new_gordon\n",
    "\n",
    "def synth_ext(zeropt,Model,Filter,Ext_Curve):\n",
    "    wave = Model['lambda']\n",
    "    flux = Model['flux']\n",
    "    response_wave = Filter['Wavelength']\n",
    "    response = Filter['Response']\n",
    "\n",
    "    #Interpolate spectrum and response to save wavelengths:\n",
    "    response2 = np.interp(wave,response_wave,response,left=0.0,right=0.0)\n",
    "    flux_int = np.trapz(flux*response2,x=wave)/np.trapz(response2,x=wave)   \n",
    "    mag = -2.5*np.log10(flux_int/zeropt)\n",
    "    \n",
    "    #Calculate NewSpec\n",
    "    new_gordon = get_interpolated_gordon_function(Ext_Curve, wave)\n",
    "    Av = 1\n",
    "    A_lambda = new_gordon * Av\n",
    "    NewSpec = flux/10.**(0.4*A_lambda)\n",
    "    \n",
    "    #Interpolate spectrum and response to save wavelengths:\n",
    "    response2 = np.interp(wave,response_wave,response,left=0.0,right=0.0)\n",
    "    Newflux_int = np.trapz(NewSpec*response2,x=wave)/np.trapz(response2,x=wave)\n",
    "    \n",
    "    Newmag = -2.5*np.log10(Newflux_int/zeropt)   \n",
    "    return Newmag - mag\n",
    "\n",
    "lmc_ext_curve = pd.read_csv(\"Data/ExtinctionCurve/lmc_avg_ext.dat\",skiprows=7,sep=\"\\s+\",names=[\"wav_micron^-1\",\"A(lambda)/A(V)\",\"unc\"])\n",
    "Model = pd.read_csv('Data/SpectralModels/SED_grid_006_m1_2.txt',skiprows=4,header=None,delimiter=\"\\t\",names=['lambda','flux'])\n",
    "uvm2_filter = pd.read_csv('Data/Filters/Swift_UVOT.UVM2.dat',header=None,names = ['Wavelength','Response'],delimiter=\"\\s+\")\n",
    "uvw2_filter = pd.read_csv('Data/Filters/Swift_UVOT.UVW2.dat',header=None,names = ['Wavelength','Response'],delimiter=\"\\s+\")\n",
    "uvw1_filter = pd.read_csv('Data/Filters/Swift_UVOT.UVW1.dat',header=None,names = ['Wavelength','Response'],delimiter=\"\\s+\")\n",
    "filters = [uvm2_filter,uvw2_filter,uvw1_filter]\n",
    "filtnames=['UVM2','UVW2','UVW1']\n",
    "uvm2_zeropt = 2.1583e-8 # For AB System\n",
    "uvw2_zeropt = 2.50225e-8 \n",
    "uvw1_zeropt = 1.5109e-8\n",
    "zeropt = [uvm2_zeropt,uvw2_zeropt,uvw1_zeropt]\n",
    "\n",
    "\n",
    "for zero,Filter,name in zip(zeropt,filters,filtnames):\n",
    "    coeff = synth_ext(zero,Model,Filter,lmc_ext_curve)   \n",
    "    print(f\"For the LMC, AB Mag system, Filter: {name} Coefficient is {coeff}\")\n",
    "\n"
   ]
  },
  {
   "cell_type": "code",
   "execution_count": null,
   "metadata": {},
   "outputs": [],
   "source": []
  }
 ],
 "metadata": {
  "kernelspec": {
   "display_name": "Python 3",
   "language": "python",
   "name": "python3"
  },
  "language_info": {
   "codemirror_mode": {
    "name": "ipython",
    "version": 3
   },
   "file_extension": ".py",
   "mimetype": "text/x-python",
   "name": "python",
   "nbconvert_exporter": "python",
   "pygments_lexer": "ipython3",
   "version": "3.7.5"
  }
 },
 "nbformat": 4,
 "nbformat_minor": 4
}
